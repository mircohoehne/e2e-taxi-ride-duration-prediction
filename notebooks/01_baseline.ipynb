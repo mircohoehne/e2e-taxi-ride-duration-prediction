{
 "cells": [
  {
   "cell_type": "code",
   "execution_count": 1,
   "id": "356de040",
   "metadata": {},
   "outputs": [
    {
     "name": "stdout",
     "output_type": "stream",
     "text": [
      "An error occurred while loading cuml.accel: Failed to dlopen libcudart.so.12\n"
     ]
    }
   ],
   "source": [
    "# open this notebook with `uv run --with jupyter --with cuml-cu12 jupyter notebook` to make it work\n",
    "# This requires the nvidia cuda toolkit to be installed\n",
    "try:\n",
    "    %load_ext cuml.accel\n",
    "except ImportError:\n",
    "    print(\"cuml.accel extension not available. Using CPU instead.\")\n",
    "except Exception as e:\n",
    "    print(f\"An error occurred while loading cuml.accel: {e}\")"
   ]
  },
  {
   "cell_type": "code",
   "execution_count": 2,
   "id": "a33c33f3",
   "metadata": {},
   "outputs": [],
   "source": [
    "from pathlib import Path\n",
    "\n",
    "import polars as pl\n",
    "\n",
    "from e2e_taxi_ride_duration_prediction.ingestion import get_nyc_taxi_data\n",
    "\n",
    "SEED = 42\n",
    "# Set streaming as standard engine to avoid oom\n",
    "pl.Config.set_engine_affinity(\"streaming\")\n",
    "\n",
    "if Path().resolve().name == \"notebooks\":\n",
    "    PROJECT_ROOT = Path(\"../\").resolve()\n",
    "else:\n",
    "    PROJECT_ROOT = Path().resolve()\n",
    "\n",
    "start = (2025, 1)\n",
    "end = (2025, 3)\n",
    "\n",
    "lf = get_nyc_taxi_data(start=start, end=end, root=PROJECT_ROOT)"
   ]
  },
  {
   "cell_type": "code",
   "execution_count": 3,
   "id": "f9a43193",
   "metadata": {},
   "outputs": [
    {
     "data": {
      "text/html": [
       "<div><style>\n",
       ".dataframe > thead > tr,\n",
       ".dataframe > tbody > tr {\n",
       "  text-align: right;\n",
       "  white-space: pre-wrap;\n",
       "}\n",
       "</style>\n",
       "<small>shape: (5, 20)</small><table border=\"1\" class=\"dataframe\"><thead><tr><th>VendorID</th><th>tpep_pickup_datetime</th><th>tpep_dropoff_datetime</th><th>passenger_count</th><th>trip_distance</th><th>RatecodeID</th><th>store_and_fwd_flag</th><th>PULocationID</th><th>DOLocationID</th><th>payment_type</th><th>fare_amount</th><th>extra</th><th>mta_tax</th><th>tip_amount</th><th>tolls_amount</th><th>improvement_surcharge</th><th>total_amount</th><th>congestion_surcharge</th><th>Airport_fee</th><th>cbd_congestion_fee</th></tr><tr><td>i32</td><td>datetime[μs]</td><td>datetime[μs]</td><td>i64</td><td>f64</td><td>i64</td><td>str</td><td>i32</td><td>i32</td><td>i64</td><td>f64</td><td>f64</td><td>f64</td><td>f64</td><td>f64</td><td>f64</td><td>f64</td><td>f64</td><td>f64</td><td>f64</td></tr></thead><tbody><tr><td>2</td><td>2007-12-05 18:45:00</td><td>2007-12-05 19:02:00</td><td>1</td><td>3.0</td><td>1</td><td>&quot;N&quot;</td><td>142</td><td>234</td><td>2</td><td>17.0</td><td>1.0</td><td>0.5</td><td>0.0</td><td>0.0</td><td>1.0</td><td>22.75</td><td>2.5</td><td>0.0</td><td>0.75</td></tr><tr><td>2</td><td>2009-01-01 00:19:34</td><td>2009-01-01 01:10:21</td><td>6</td><td>10.77</td><td>1</td><td>&quot;N&quot;</td><td>138</td><td>239</td><td>2</td><td>52.7</td><td>5.0</td><td>0.5</td><td>0.0</td><td>6.94</td><td>1.0</td><td>70.39</td><td>2.5</td><td>1.75</td><td>0.0</td></tr><tr><td>2</td><td>2024-12-31 20:47:55</td><td>2024-12-31 20:54:00</td><td>2</td><td>1.72</td><td>1</td><td>&quot;N&quot;</td><td>48</td><td>246</td><td>1</td><td>9.3</td><td>1.0</td><td>0.5</td><td>2.86</td><td>0.0</td><td>1.0</td><td>17.16</td><td>2.5</td><td>0.0</td><td>0.0</td></tr><tr><td>2</td><td>2024-12-31 20:52:50</td><td>2024-12-31 21:09:34</td><td>2</td><td>5.05</td><td>1</td><td>&quot;N&quot;</td><td>249</td><td>262</td><td>1</td><td>23.3</td><td>1.0</td><td>0.5</td><td>4.0</td><td>0.0</td><td>1.0</td><td>32.3</td><td>2.5</td><td>0.0</td><td>0.0</td></tr><tr><td>2</td><td>2024-12-31 20:54:50</td><td>2024-12-31 21:30:18</td><td>2</td><td>1.39</td><td>1</td><td>&quot;N&quot;</td><td>246</td><td>48</td><td>1</td><td>28.2</td><td>1.0</td><td>0.5</td><td>6.64</td><td>0.0</td><td>1.0</td><td>39.84</td><td>2.5</td><td>0.0</td><td>0.0</td></tr></tbody></table></div>"
      ],
      "text/plain": [
       "shape: (5, 20)\n",
       "┌──────────┬───────────┬───────────┬───────────┬───┬───────────┬───────────┬───────────┬───────────┐\n",
       "│ VendorID ┆ tpep_pick ┆ tpep_drop ┆ passenger ┆ … ┆ total_amo ┆ congestio ┆ Airport_f ┆ cbd_conge │\n",
       "│ ---      ┆ up_dateti ┆ off_datet ┆ _count    ┆   ┆ unt       ┆ n_surchar ┆ ee        ┆ stion_fee │\n",
       "│ i32      ┆ me        ┆ ime       ┆ ---       ┆   ┆ ---       ┆ ge        ┆ ---       ┆ ---       │\n",
       "│          ┆ ---       ┆ ---       ┆ i64       ┆   ┆ f64       ┆ ---       ┆ f64       ┆ f64       │\n",
       "│          ┆ datetime[ ┆ datetime[ ┆           ┆   ┆           ┆ f64       ┆           ┆           │\n",
       "│          ┆ μs]       ┆ μs]       ┆           ┆   ┆           ┆           ┆           ┆           │\n",
       "╞══════════╪═══════════╪═══════════╪═══════════╪═══╪═══════════╪═══════════╪═══════════╪═══════════╡\n",
       "│ 2        ┆ 2007-12-0 ┆ 2007-12-0 ┆ 1         ┆ … ┆ 22.75     ┆ 2.5       ┆ 0.0       ┆ 0.75      │\n",
       "│          ┆ 5         ┆ 5         ┆           ┆   ┆           ┆           ┆           ┆           │\n",
       "│          ┆ 18:45:00  ┆ 19:02:00  ┆           ┆   ┆           ┆           ┆           ┆           │\n",
       "│ 2        ┆ 2009-01-0 ┆ 2009-01-0 ┆ 6         ┆ … ┆ 70.39     ┆ 2.5       ┆ 1.75      ┆ 0.0       │\n",
       "│          ┆ 1         ┆ 1         ┆           ┆   ┆           ┆           ┆           ┆           │\n",
       "│          ┆ 00:19:34  ┆ 01:10:21  ┆           ┆   ┆           ┆           ┆           ┆           │\n",
       "│ 2        ┆ 2024-12-3 ┆ 2024-12-3 ┆ 2         ┆ … ┆ 17.16     ┆ 2.5       ┆ 0.0       ┆ 0.0       │\n",
       "│          ┆ 1         ┆ 1         ┆           ┆   ┆           ┆           ┆           ┆           │\n",
       "│          ┆ 20:47:55  ┆ 20:54:00  ┆           ┆   ┆           ┆           ┆           ┆           │\n",
       "│ 2        ┆ 2024-12-3 ┆ 2024-12-3 ┆ 2         ┆ … ┆ 32.3      ┆ 2.5       ┆ 0.0       ┆ 0.0       │\n",
       "│          ┆ 1         ┆ 1         ┆           ┆   ┆           ┆           ┆           ┆           │\n",
       "│          ┆ 20:52:50  ┆ 21:09:34  ┆           ┆   ┆           ┆           ┆           ┆           │\n",
       "│ 2        ┆ 2024-12-3 ┆ 2024-12-3 ┆ 2         ┆ … ┆ 39.84     ┆ 2.5       ┆ 0.0       ┆ 0.0       │\n",
       "│          ┆ 1         ┆ 1         ┆           ┆   ┆           ┆           ┆           ┆           │\n",
       "│          ┆ 20:54:50  ┆ 21:30:18  ┆           ┆   ┆           ┆           ┆           ┆           │\n",
       "└──────────┴───────────┴───────────┴───────────┴───┴───────────┴───────────┴───────────┴───────────┘"
      ]
     },
     "execution_count": 3,
     "metadata": {},
     "output_type": "execute_result"
    }
   ],
   "source": [
    "lf.head().collect()"
   ]
  },
  {
   "cell_type": "code",
   "execution_count": 4,
   "id": "931539c4",
   "metadata": {},
   "outputs": [],
   "source": [
    "lf = lf.with_columns(\n",
    "    (\n",
    "        (\n",
    "            pl.col(\"tpep_dropoff_datetime\") - pl.col(\"tpep_pickup_datetime\")\n",
    "        ).dt.total_seconds()\n",
    "        / 60\n",
    "    ).alias(\"duration\")\n",
    ")"
   ]
  },
  {
   "cell_type": "code",
   "execution_count": 5,
   "id": "6e1f7c43",
   "metadata": {},
   "outputs": [
    {
     "data": {
      "text/html": [
       "<div><style>\n",
       ".dataframe > thead > tr,\n",
       ".dataframe > tbody > tr {\n",
       "  text-align: right;\n",
       "  white-space: pre-wrap;\n",
       "}\n",
       "</style>\n",
       "<small>shape: (13, 22)</small><table border=\"1\" class=\"dataframe\"><thead><tr><th>statistic</th><th>VendorID</th><th>tpep_pickup_datetime</th><th>tpep_dropoff_datetime</th><th>passenger_count</th><th>trip_distance</th><th>RatecodeID</th><th>store_and_fwd_flag</th><th>PULocationID</th><th>DOLocationID</th><th>payment_type</th><th>fare_amount</th><th>extra</th><th>mta_tax</th><th>tip_amount</th><th>tolls_amount</th><th>improvement_surcharge</th><th>total_amount</th><th>congestion_surcharge</th><th>Airport_fee</th><th>cbd_congestion_fee</th><th>duration</th></tr><tr><td>str</td><td>f64</td><td>str</td><td>str</td><td>f64</td><td>f64</td><td>f64</td><td>str</td><td>f64</td><td>f64</td><td>f64</td><td>f64</td><td>f64</td><td>f64</td><td>f64</td><td>f64</td><td>f64</td><td>f64</td><td>f64</td><td>f64</td><td>f64</td><td>f64</td></tr></thead><tbody><tr><td>&quot;count&quot;</td><td>1.1198026e7</td><td>&quot;11198026&quot;</td><td>&quot;11198026&quot;</td><td>8.934277e6</td><td>1.1198026e7</td><td>8.934277e6</td><td>&quot;8934277&quot;</td><td>1.1198026e7</td><td>1.1198026e7</td><td>1.1198026e7</td><td>1.1198026e7</td><td>1.1198026e7</td><td>1.1198026e7</td><td>1.1198026e7</td><td>1.1198026e7</td><td>1.1198026e7</td><td>1.1198026e7</td><td>8.934277e6</td><td>8.934277e6</td><td>1.1198026e7</td><td>1.1198026e7</td></tr><tr><td>&quot;null_count&quot;</td><td>0.0</td><td>&quot;0&quot;</td><td>&quot;0&quot;</td><td>2.263749e6</td><td>0.0</td><td>2.263749e6</td><td>&quot;2263749&quot;</td><td>0.0</td><td>0.0</td><td>0.0</td><td>0.0</td><td>0.0</td><td>0.0</td><td>0.0</td><td>0.0</td><td>0.0</td><td>0.0</td><td>2.263749e6</td><td>2.263749e6</td><td>0.0</td><td>0.0</td></tr><tr><td>&quot;mean&quot;</td><td>1.803277</td><td>&quot;2025-02-17 03:02:19.286455&quot;</td><td>&quot;2025-02-17 03:17:49.412614&quot;</td><td>1.288654</td><td>6.179361</td><td>2.453865</td><td>null</td><td>163.314009</td><td>162.527806</td><td>0.976855</td><td>17.241468</td><td>1.256459</td><td>0.479046</td><td>2.849041</td><td>0.444748</td><td>0.957046</td><td>25.668077</td><td>2.225126</td><td>0.127256</td><td>0.520258</td><td>15.502103</td></tr><tr><td>&quot;std&quot;</td><td>0.482393</td><td>null</td><td>null</td><td>0.735222</td><td>581.823197</td><td>11.513329</td><td>null</td><td>65.414264</td><td>69.830883</td><td>0.723082</td><td>261.991719</td><td>1.851653</td><td>0.134748</td><td>3.76522</td><td>2.005737</td><td>0.271624</td><td>262.310249</td><td>0.905474</td><td>0.481509</td><td>0.358708</td><td>31.075321</td></tr><tr><td>&quot;min&quot;</td><td>1.0</td><td>&quot;2007-12-05 18:45:00&quot;</td><td>&quot;2007-12-05 19:02:00&quot;</td><td>0.0</td><td>0.0</td><td>1.0</td><td>&quot;N&quot;</td><td>1.0</td><td>1.0</td><td>0.0</td><td>-1807.6</td><td>-9.25</td><td>-0.5</td><td>-220.0</td><td>-142.17</td><td>-1.0</td><td>-1832.85</td><td>-2.5</td><td>-1.75</td><td>-0.75</td><td>-51472.316667</td></tr><tr><td>&hellip;</td><td>&hellip;</td><td>&hellip;</td><td>&hellip;</td><td>&hellip;</td><td>&hellip;</td><td>&hellip;</td><td>&hellip;</td><td>&hellip;</td><td>&hellip;</td><td>&hellip;</td><td>&hellip;</td><td>&hellip;</td><td>&hellip;</td><td>&hellip;</td><td>&hellip;</td><td>&hellip;</td><td>&hellip;</td><td>&hellip;</td><td>&hellip;</td><td>&hellip;</td><td>&hellip;</td></tr><tr><td>&quot;50%&quot;</td><td>2.0</td><td>&quot;2025-02-17 14:56:00&quot;</td><td>&quot;2025-02-17 15:11:05&quot;</td><td>1.0</td><td>1.72</td><td>1.0</td><td>null</td><td>161.0</td><td>162.0</td><td>1.0</td><td>12.8</td><td>0.0</td><td>0.5</td><td>2.25</td><td>0.0</td><td>1.0</td><td>20.25</td><td>2.5</td><td>0.0</td><td>0.75</td><td>12.133333</td></tr><tr><td>&quot;75%&quot;</td><td>2.0</td><td>&quot;2025-03-11 08:14:55&quot;</td><td>&quot;2025-03-11 08:32:07&quot;</td><td>1.0</td><td>3.24</td><td>1.0</td><td>null</td><td>233.0</td><td>234.0</td><td>1.0</td><td>20.5</td><td>2.5</td><td>0.5</td><td>3.9</td><td>0.0</td><td>1.0</td><td>28.42</td><td>2.5</td><td>0.0</td><td>0.75</td><td>18.95</td></tr><tr><td>&quot;95%&quot;</td><td>2.0</td><td>&quot;2025-03-27 22:47:43&quot;</td><td>&quot;2025-03-27 23:02:39&quot;</td><td>3.0</td><td>11.63</td><td>2.0</td><td>null</td><td>249.0</td><td>255.0</td><td>2.0</td><td>51.3</td><td>5.0</td><td>0.5</td><td>10.0</td><td>6.94</td><td>1.0</td><td>73.14</td><td>2.5</td><td>1.75</td><td>0.75</td><td>37.183333</td></tr><tr><td>&quot;99%&quot;</td><td>2.0</td><td>&quot;2025-03-31 01:13:47&quot;</td><td>&quot;2025-03-31 01:32:07&quot;</td><td>4.0</td><td>19.34</td><td>99.0</td><td>null</td><td>263.0</td><td>263.0</td><td>4.0</td><td>71.3</td><td>7.5</td><td>0.5</td><td>17.05</td><td>6.94</td><td>1.0</td><td>102.11</td><td>2.5</td><td>1.75</td><td>0.75</td><td>61.483333</td></tr><tr><td>&quot;max&quot;</td><td>7.0</td><td>&quot;2025-04-01 00:00:17&quot;</td><td>&quot;2025-04-03 14:07:50&quot;</td><td>9.0</td><td>320136.29</td><td>99.0</td><td>&quot;Y&quot;</td><td>265.0</td><td>265.0</td><td>5.0</td><td>863372.12</td><td>22.55</td><td>10.5</td><td>440.0</td><td>916.87</td><td>1.0</td><td>863380.37</td><td>2.5</td><td>6.75</td><td>1.5</td><td>8564.666667</td></tr></tbody></table></div>"
      ],
      "text/plain": [
       "shape: (13, 22)\n",
       "┌───────────┬───────────┬───────────┬───────────┬───┬───────────┬───────────┬───────────┬──────────┐\n",
       "│ statistic ┆ VendorID  ┆ tpep_pick ┆ tpep_drop ┆ … ┆ congestio ┆ Airport_f ┆ cbd_conge ┆ duration │\n",
       "│ ---       ┆ ---       ┆ up_dateti ┆ off_datet ┆   ┆ n_surchar ┆ ee        ┆ stion_fee ┆ ---      │\n",
       "│ str       ┆ f64       ┆ me        ┆ ime       ┆   ┆ ge        ┆ ---       ┆ ---       ┆ f64      │\n",
       "│           ┆           ┆ ---       ┆ ---       ┆   ┆ ---       ┆ f64       ┆ f64       ┆          │\n",
       "│           ┆           ┆ str       ┆ str       ┆   ┆ f64       ┆           ┆           ┆          │\n",
       "╞═══════════╪═══════════╪═══════════╪═══════════╪═══╪═══════════╪═══════════╪═══════════╪══════════╡\n",
       "│ count     ┆ 1.1198026 ┆ 11198026  ┆ 11198026  ┆ … ┆ 8.934277e ┆ 8.934277e ┆ 1.1198026 ┆ 1.119802 │\n",
       "│           ┆ e7        ┆           ┆           ┆   ┆ 6         ┆ 6         ┆ e7        ┆ 6e7      │\n",
       "│ null_coun ┆ 0.0       ┆ 0         ┆ 0         ┆ … ┆ 2.263749e ┆ 2.263749e ┆ 0.0       ┆ 0.0      │\n",
       "│ t         ┆           ┆           ┆           ┆   ┆ 6         ┆ 6         ┆           ┆          │\n",
       "│ mean      ┆ 1.803277  ┆ 2025-02-1 ┆ 2025-02-1 ┆ … ┆ 2.225126  ┆ 0.127256  ┆ 0.520258  ┆ 15.50210 │\n",
       "│           ┆           ┆ 7 03:02:1 ┆ 7 03:17:4 ┆   ┆           ┆           ┆           ┆ 3        │\n",
       "│           ┆           ┆ 9.286455  ┆ 9.412614  ┆   ┆           ┆           ┆           ┆          │\n",
       "│ std       ┆ 0.482393  ┆ null      ┆ null      ┆ … ┆ 0.905474  ┆ 0.481509  ┆ 0.358708  ┆ 31.07532 │\n",
       "│           ┆           ┆           ┆           ┆   ┆           ┆           ┆           ┆ 1        │\n",
       "│ min       ┆ 1.0       ┆ 2007-12-0 ┆ 2007-12-0 ┆ … ┆ -2.5      ┆ -1.75     ┆ -0.75     ┆ -51472.3 │\n",
       "│           ┆           ┆ 5         ┆ 5         ┆   ┆           ┆           ┆           ┆ 16667    │\n",
       "│           ┆           ┆ 18:45:00  ┆ 19:02:00  ┆   ┆           ┆           ┆           ┆          │\n",
       "│ …         ┆ …         ┆ …         ┆ …         ┆ … ┆ …         ┆ …         ┆ …         ┆ …        │\n",
       "│ 50%       ┆ 2.0       ┆ 2025-02-1 ┆ 2025-02-1 ┆ … ┆ 2.5       ┆ 0.0       ┆ 0.75      ┆ 12.13333 │\n",
       "│           ┆           ┆ 7         ┆ 7         ┆   ┆           ┆           ┆           ┆ 3        │\n",
       "│           ┆           ┆ 14:56:00  ┆ 15:11:05  ┆   ┆           ┆           ┆           ┆          │\n",
       "│ 75%       ┆ 2.0       ┆ 2025-03-1 ┆ 2025-03-1 ┆ … ┆ 2.5       ┆ 0.0       ┆ 0.75      ┆ 18.95    │\n",
       "│           ┆           ┆ 1         ┆ 1         ┆   ┆           ┆           ┆           ┆          │\n",
       "│           ┆           ┆ 08:14:55  ┆ 08:32:07  ┆   ┆           ┆           ┆           ┆          │\n",
       "│ 95%       ┆ 2.0       ┆ 2025-03-2 ┆ 2025-03-2 ┆ … ┆ 2.5       ┆ 1.75      ┆ 0.75      ┆ 37.18333 │\n",
       "│           ┆           ┆ 7         ┆ 7         ┆   ┆           ┆           ┆           ┆ 3        │\n",
       "│           ┆           ┆ 22:47:43  ┆ 23:02:39  ┆   ┆           ┆           ┆           ┆          │\n",
       "│ 99%       ┆ 2.0       ┆ 2025-03-3 ┆ 2025-03-3 ┆ … ┆ 2.5       ┆ 1.75      ┆ 0.75      ┆ 61.48333 │\n",
       "│           ┆           ┆ 1         ┆ 1         ┆   ┆           ┆           ┆           ┆ 3        │\n",
       "│           ┆           ┆ 01:13:47  ┆ 01:32:07  ┆   ┆           ┆           ┆           ┆          │\n",
       "│ max       ┆ 7.0       ┆ 2025-04-0 ┆ 2025-04-0 ┆ … ┆ 2.5       ┆ 6.75      ┆ 1.5       ┆ 8564.666 │\n",
       "│           ┆           ┆ 1         ┆ 3         ┆   ┆           ┆           ┆           ┆ 667      │\n",
       "│           ┆           ┆ 00:00:17  ┆ 14:07:50  ┆   ┆           ┆           ┆           ┆          │\n",
       "└───────────┴───────────┴───────────┴───────────┴───┴───────────┴───────────┴───────────┴──────────┘"
      ]
     },
     "execution_count": 5,
     "metadata": {},
     "output_type": "execute_result"
    }
   ],
   "source": [
    "lf.describe(percentiles=[0.01, 0.05, 0.25, 0.5, 0.75, 0.95, 0.99])"
   ]
  },
  {
   "cell_type": "code",
   "execution_count": 6,
   "id": "eef3e892",
   "metadata": {},
   "outputs": [],
   "source": [
    "lf = lf.filter((pl.col(\"duration\") > 0) & (pl.col(\"duration\") < 60))"
   ]
  },
  {
   "cell_type": "code",
   "execution_count": 7,
   "id": "21cb6abf",
   "metadata": {},
   "outputs": [
    {
     "data": {
      "text/plain": [
       "Schema([('VendorID', Int32),\n",
       "        ('tpep_pickup_datetime', Datetime(time_unit='us', time_zone=None)),\n",
       "        ('tpep_dropoff_datetime', Datetime(time_unit='us', time_zone=None)),\n",
       "        ('passenger_count', Int64),\n",
       "        ('trip_distance', Float64),\n",
       "        ('RatecodeID', Int64),\n",
       "        ('store_and_fwd_flag', String),\n",
       "        ('PULocationID', Int32),\n",
       "        ('DOLocationID', Int32),\n",
       "        ('payment_type', Int64),\n",
       "        ('fare_amount', Float64),\n",
       "        ('extra', Float64),\n",
       "        ('mta_tax', Float64),\n",
       "        ('tip_amount', Float64),\n",
       "        ('tolls_amount', Float64),\n",
       "        ('improvement_surcharge', Float64),\n",
       "        ('total_amount', Float64),\n",
       "        ('congestion_surcharge', Float64),\n",
       "        ('Airport_fee', Float64),\n",
       "        ('cbd_congestion_fee', Float64),\n",
       "        ('duration', Float64)])"
      ]
     },
     "execution_count": 7,
     "metadata": {},
     "output_type": "execute_result"
    }
   ],
   "source": [
    "lf.collect_schema()"
   ]
  },
  {
   "cell_type": "code",
   "execution_count": 8,
   "id": "47248523",
   "metadata": {},
   "outputs": [],
   "source": [
    "categorical_columns = [\n",
    "    \"VendorID\",\n",
    "    \"RatecodeID\",\n",
    "    \"store_and_fwd_flag\",\n",
    "    \"PULocationID\",\n",
    "    \"DOLocationID\",\n",
    "    \"payment_type\",\n",
    "]\n",
    "\n",
    "# Cast categorical columns to string\n",
    "for col in categorical_columns:\n",
    "    lf = lf.with_columns(pl.col(col).cast(pl.Utf8).cast(pl.Categorical))  # type: ignore"
   ]
  },
  {
   "cell_type": "code",
   "execution_count": 9,
   "id": "7aab7239",
   "metadata": {},
   "outputs": [],
   "source": [
    "lf = lf.with_columns(\n",
    "    (pl.col(\"PULocationID\") + \"_\" + pl.col(\"DOLocationID\"))\n",
    "    .cast(pl.Categorical)\n",
    "    .alias(\"pickup_dropoff_pair\")\n",
    ")"
   ]
  },
  {
   "cell_type": "code",
   "execution_count": 10,
   "id": "2b1175d9",
   "metadata": {},
   "outputs": [
    {
     "data": {
      "text/html": [
       "<div><style>\n",
       ".dataframe > thead > tr,\n",
       ".dataframe > tbody > tr {\n",
       "  text-align: right;\n",
       "  white-space: pre-wrap;\n",
       "}\n",
       "</style>\n",
       "<small>shape: (5, 22)</small><table border=\"1\" class=\"dataframe\"><thead><tr><th>VendorID</th><th>tpep_pickup_datetime</th><th>tpep_dropoff_datetime</th><th>passenger_count</th><th>trip_distance</th><th>RatecodeID</th><th>store_and_fwd_flag</th><th>PULocationID</th><th>DOLocationID</th><th>payment_type</th><th>fare_amount</th><th>extra</th><th>mta_tax</th><th>tip_amount</th><th>tolls_amount</th><th>improvement_surcharge</th><th>total_amount</th><th>congestion_surcharge</th><th>Airport_fee</th><th>cbd_congestion_fee</th><th>duration</th><th>pickup_dropoff_pair</th></tr><tr><td>cat</td><td>datetime[μs]</td><td>datetime[μs]</td><td>i64</td><td>f64</td><td>cat</td><td>cat</td><td>cat</td><td>cat</td><td>cat</td><td>f64</td><td>f64</td><td>f64</td><td>f64</td><td>f64</td><td>f64</td><td>f64</td><td>f64</td><td>f64</td><td>f64</td><td>f64</td><td>cat</td></tr></thead><tbody><tr><td>&quot;2&quot;</td><td>2007-12-05 18:45:00</td><td>2007-12-05 19:02:00</td><td>1</td><td>3.0</td><td>&quot;1&quot;</td><td>&quot;N&quot;</td><td>&quot;142&quot;</td><td>&quot;234&quot;</td><td>&quot;2&quot;</td><td>17.0</td><td>1.0</td><td>0.5</td><td>0.0</td><td>0.0</td><td>1.0</td><td>22.75</td><td>2.5</td><td>0.0</td><td>0.75</td><td>17.0</td><td>&quot;142_234&quot;</td></tr><tr><td>&quot;2&quot;</td><td>2009-01-01 00:19:34</td><td>2009-01-01 01:10:21</td><td>6</td><td>10.77</td><td>&quot;1&quot;</td><td>&quot;N&quot;</td><td>&quot;138&quot;</td><td>&quot;239&quot;</td><td>&quot;2&quot;</td><td>52.7</td><td>5.0</td><td>0.5</td><td>0.0</td><td>6.94</td><td>1.0</td><td>70.39</td><td>2.5</td><td>1.75</td><td>0.0</td><td>50.783333</td><td>&quot;138_239&quot;</td></tr><tr><td>&quot;2&quot;</td><td>2024-12-31 20:47:55</td><td>2024-12-31 20:54:00</td><td>2</td><td>1.72</td><td>&quot;1&quot;</td><td>&quot;N&quot;</td><td>&quot;48&quot;</td><td>&quot;246&quot;</td><td>&quot;1&quot;</td><td>9.3</td><td>1.0</td><td>0.5</td><td>2.86</td><td>0.0</td><td>1.0</td><td>17.16</td><td>2.5</td><td>0.0</td><td>0.0</td><td>6.083333</td><td>&quot;48_246&quot;</td></tr><tr><td>&quot;2&quot;</td><td>2024-12-31 20:52:50</td><td>2024-12-31 21:09:34</td><td>2</td><td>5.05</td><td>&quot;1&quot;</td><td>&quot;N&quot;</td><td>&quot;249&quot;</td><td>&quot;262&quot;</td><td>&quot;1&quot;</td><td>23.3</td><td>1.0</td><td>0.5</td><td>4.0</td><td>0.0</td><td>1.0</td><td>32.3</td><td>2.5</td><td>0.0</td><td>0.0</td><td>16.733333</td><td>&quot;249_262&quot;</td></tr><tr><td>&quot;2&quot;</td><td>2024-12-31 20:54:50</td><td>2024-12-31 21:30:18</td><td>2</td><td>1.39</td><td>&quot;1&quot;</td><td>&quot;N&quot;</td><td>&quot;246&quot;</td><td>&quot;48&quot;</td><td>&quot;1&quot;</td><td>28.2</td><td>1.0</td><td>0.5</td><td>6.64</td><td>0.0</td><td>1.0</td><td>39.84</td><td>2.5</td><td>0.0</td><td>0.0</td><td>35.466667</td><td>&quot;246_48&quot;</td></tr></tbody></table></div>"
      ],
      "text/plain": [
       "shape: (5, 22)\n",
       "┌──────────┬───────────┬───────────┬───────────┬───┬───────────┬───────────┬───────────┬───────────┐\n",
       "│ VendorID ┆ tpep_pick ┆ tpep_drop ┆ passenger ┆ … ┆ Airport_f ┆ cbd_conge ┆ duration  ┆ pickup_dr │\n",
       "│ ---      ┆ up_dateti ┆ off_datet ┆ _count    ┆   ┆ ee        ┆ stion_fee ┆ ---       ┆ opoff_pai │\n",
       "│ cat      ┆ me        ┆ ime       ┆ ---       ┆   ┆ ---       ┆ ---       ┆ f64       ┆ r         │\n",
       "│          ┆ ---       ┆ ---       ┆ i64       ┆   ┆ f64       ┆ f64       ┆           ┆ ---       │\n",
       "│          ┆ datetime[ ┆ datetime[ ┆           ┆   ┆           ┆           ┆           ┆ cat       │\n",
       "│          ┆ μs]       ┆ μs]       ┆           ┆   ┆           ┆           ┆           ┆           │\n",
       "╞══════════╪═══════════╪═══════════╪═══════════╪═══╪═══════════╪═══════════╪═══════════╪═══════════╡\n",
       "│ 2        ┆ 2007-12-0 ┆ 2007-12-0 ┆ 1         ┆ … ┆ 0.0       ┆ 0.75      ┆ 17.0      ┆ 142_234   │\n",
       "│          ┆ 5         ┆ 5         ┆           ┆   ┆           ┆           ┆           ┆           │\n",
       "│          ┆ 18:45:00  ┆ 19:02:00  ┆           ┆   ┆           ┆           ┆           ┆           │\n",
       "│ 2        ┆ 2009-01-0 ┆ 2009-01-0 ┆ 6         ┆ … ┆ 1.75      ┆ 0.0       ┆ 50.783333 ┆ 138_239   │\n",
       "│          ┆ 1         ┆ 1         ┆           ┆   ┆           ┆           ┆           ┆           │\n",
       "│          ┆ 00:19:34  ┆ 01:10:21  ┆           ┆   ┆           ┆           ┆           ┆           │\n",
       "│ 2        ┆ 2024-12-3 ┆ 2024-12-3 ┆ 2         ┆ … ┆ 0.0       ┆ 0.0       ┆ 6.083333  ┆ 48_246    │\n",
       "│          ┆ 1         ┆ 1         ┆           ┆   ┆           ┆           ┆           ┆           │\n",
       "│          ┆ 20:47:55  ┆ 20:54:00  ┆           ┆   ┆           ┆           ┆           ┆           │\n",
       "│ 2        ┆ 2024-12-3 ┆ 2024-12-3 ┆ 2         ┆ … ┆ 0.0       ┆ 0.0       ┆ 16.733333 ┆ 249_262   │\n",
       "│          ┆ 1         ┆ 1         ┆           ┆   ┆           ┆           ┆           ┆           │\n",
       "│          ┆ 20:52:50  ┆ 21:09:34  ┆           ┆   ┆           ┆           ┆           ┆           │\n",
       "│ 2        ┆ 2024-12-3 ┆ 2024-12-3 ┆ 2         ┆ … ┆ 0.0       ┆ 0.0       ┆ 35.466667 ┆ 246_48    │\n",
       "│          ┆ 1         ┆ 1         ┆           ┆   ┆           ┆           ┆           ┆           │\n",
       "│          ┆ 20:54:50  ┆ 21:30:18  ┆           ┆   ┆           ┆           ┆           ┆           │\n",
       "└──────────┴───────────┴───────────┴───────────┴───┴───────────┴───────────┴───────────┴───────────┘"
      ]
     },
     "execution_count": 10,
     "metadata": {},
     "output_type": "execute_result"
    }
   ],
   "source": [
    "lf.head().collect()"
   ]
  },
  {
   "cell_type": "code",
   "execution_count": 11,
   "id": "c915b77a",
   "metadata": {},
   "outputs": [],
   "source": [
    "# Add filter at lower and upper bounds since data includes data points outside range\n",
    "lf_train = lf.filter(\n",
    "    (pl.col(\"tpep_pickup_datetime\") >= pl.datetime(2025, 1, 1))\n",
    "    & (pl.col(\"tpep_pickup_datetime\") < pl.datetime(2025, 3, 1))\n",
    ")\n",
    "lf_test = lf.filter(\n",
    "    (pl.col(\"tpep_pickup_datetime\") >= pl.datetime(2025, 3, 1))\n",
    "    & (pl.col(\"tpep_pickup_datetime\") < pl.datetime(2025, 4, 1))\n",
    ")"
   ]
  },
  {
   "cell_type": "code",
   "execution_count": 12,
   "id": "2c9a5d37",
   "metadata": {},
   "outputs": [],
   "source": [
    "from sklearn.feature_extraction import DictVectorizer\n",
    "from sklearn.linear_model import LinearRegression\n",
    "from sklearn.metrics import (\n",
    "    mean_absolute_error,\n",
    "    mean_absolute_percentage_error,\n",
    "    r2_score,\n",
    "    root_mean_squared_error,\n",
    ")\n",
    "\n",
    "baseline_features = [\"pickup_dropoff_pair\", \"trip_distance\"]\n",
    "target = \"duration\"\n",
    "\n",
    "dict_vectorizer = DictVectorizer()\n",
    "\n",
    "train_dicts = lf_train.select(baseline_features).collect().to_dicts()\n",
    "X_train = dict_vectorizer.fit_transform(train_dicts)\n",
    "\n",
    "test_dicts = lf_test.select(baseline_features).collect().to_dicts()\n",
    "X_test = dict_vectorizer.transform(test_dicts)\n",
    "\n",
    "y_train = lf_train.select(target).collect().to_numpy().ravel()\n",
    "y_test = lf_test.select(target).collect().to_numpy().ravel()"
   ]
  },
  {
   "cell_type": "code",
   "execution_count": 14,
   "id": "debdd290",
   "metadata": {},
   "outputs": [
    {
     "name": "stdout",
     "output_type": "stream",
     "text": [
      "MAE: 3.88 minutes\n",
      "RMSE: 5.54 minutes\n",
      "R2: 0.70\n"
     ]
    }
   ],
   "source": [
    "lin_reg = LinearRegression(n_jobs=-1)\n",
    "lin_reg.fit(X_train, y_train)\n",
    "\n",
    "y_pred = lin_reg.predict(X_test)\n",
    "\n",
    "mae = mean_absolute_error(y_test, y_pred)\n",
    "mape = mean_absolute_percentage_error(y_test, y_pred)\n",
    "rmse = root_mean_squared_error(y_test, y_pred)\n",
    "r2 = r2_score(y_test, y_pred)\n",
    "\n",
    "print(f\"MAE: {mae:.2f} minutes\")\n",
    "print(f\"RMSE: {rmse:.2f} minutes\")\n",
    "print(f\"R2: {r2:.2f}\")"
   ]
  },
  {
   "cell_type": "code",
   "execution_count": 16,
   "id": "fae5c192",
   "metadata": {},
   "outputs": [
    {
     "name": "stderr",
     "output_type": "stream",
     "text": [
      "/home/smircs/Programming/e2e-taxi-ride-duration-prediction/.venv/lib/python3.11/site-packages/xgboost/core.py:729: UserWarning: [14:36:43] WARNING: /workspace/src/common/error_msg.cc:58: Falling back to prediction using DMatrix due to mismatched devices. This might lead to higher memory usage and slower performance. XGBoost is running on: cuda:0, while the input data is on: cpu.\n",
      "Potential solutions:\n",
      "- Use a data structure that matches the device ordinal in the booster.\n",
      "- Set the device for booster before call to inplace_predict.\n",
      "\n",
      "This warning will only be shown once.\n",
      "\n",
      "  return func(**kwargs)\n"
     ]
    },
    {
     "name": "stdout",
     "output_type": "stream",
     "text": [
      "XGB MAE: 3.71 minutes\n",
      "XGB RMSE: 5.38 minutes\n",
      "XGB R2: 0.72\n"
     ]
    }
   ],
   "source": [
    "from xgboost import XGBRegressor\n",
    "\n",
    "xgb_reg = XGBRegressor(device=\"cuda\", seed=SEED)\n",
    "xgb_reg.fit(X_train, y_train)\n",
    "y_pred_xgb = xgb_reg.predict(X_test)\n",
    "\n",
    "mae_xgb = mean_absolute_error(y_test, y_pred_xgb)\n",
    "mape_xgb = mean_absolute_percentage_error(y_test, y_pred_xgb)\n",
    "rmse_xgb = root_mean_squared_error(y_test, y_pred_xgb)\n",
    "r2_xgb = r2_score(y_test, y_pred_xgb)\n",
    "\n",
    "print(f\"XGB MAE: {mae_xgb:.2f} minutes\")\n",
    "print(f\"XGB RMSE: {rmse_xgb:.2f} minutes\")\n",
    "print(f\"XGB R2: {r2_xgb:.2f}\")"
   ]
  },
  {
   "cell_type": "code",
   "execution_count": null,
   "id": "e89ea07c",
   "metadata": {},
   "outputs": [],
   "source": []
  }
 ],
 "metadata": {
  "kernelspec": {
   "display_name": "e2e-taxi-ride-duration-prediction",
   "language": "python",
   "name": "python3"
  },
  "language_info": {
   "codemirror_mode": {
    "name": "ipython",
    "version": 3
   },
   "file_extension": ".py",
   "mimetype": "text/x-python",
   "name": "python",
   "nbconvert_exporter": "python",
   "pygments_lexer": "ipython3",
   "version": "3.11.13"
  }
 },
 "nbformat": 4,
 "nbformat_minor": 5
}
