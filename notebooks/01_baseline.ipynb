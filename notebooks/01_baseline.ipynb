{
 "cells": [
  {
   "cell_type": "code",
   "execution_count": null,
   "id": "ff1f2731",
   "metadata": {},
   "outputs": [],
   "source": [
    "from pathlib import Path\n",
    "\n",
    "from e2e_taxi_ride_duration_prediction.ingestion import get_nyc_taxi_data\n",
    "\n",
    "if Path().resolve().name == \"notebooks\":\n",
    "    PROJECT_ROOT = Path(\"../\").resolve()\n",
    "else:\n",
    "    PROJECT_ROOT = Path().resolve()"
   ]
  },
  {
   "cell_type": "code",
   "execution_count": null,
   "id": "db61361b",
   "metadata": {},
   "outputs": [],
   "source": [
    "start = (2022, 1)\n",
    "end = (2025, 5)\n",
    "df = get_nyc_taxi_data(root=PROJECT_ROOT, start=start, end=end)"
   ]
  },
  {
   "cell_type": "code",
   "execution_count": 3,
   "id": "4b7fc593",
   "metadata": {},
   "outputs": [
    {
     "data": {
      "text/html": [
       "<div><style>\n",
       ".dataframe > thead > tr,\n",
       ".dataframe > tbody > tr {\n",
       "  text-align: right;\n",
       "  white-space: pre-wrap;\n",
       "}\n",
       "</style>\n",
       "<small>shape: (5, 21)</small><table border=\"1\" class=\"dataframe\"><thead><tr><th>VendorID</th><th>tpep_pickup_datetime</th><th>tpep_dropoff_datetime</th><th>passenger_count</th><th>trip_distance</th><th>RatecodeID</th><th>store_and_fwd_flag</th><th>PULocationID</th><th>DOLocationID</th><th>payment_type</th><th>fare_amount</th><th>extra</th><th>mta_tax</th><th>tip_amount</th><th>tolls_amount</th><th>improvement_surcharge</th><th>total_amount</th><th>congestion_surcharge</th><th>Airport_fee</th><th>airport_fee</th><th>cbd_congestion_fee</th></tr><tr><td>i64</td><td>datetime[μs]</td><td>datetime[μs]</td><td>f64</td><td>f64</td><td>f64</td><td>str</td><td>i64</td><td>i64</td><td>i64</td><td>f64</td><td>f64</td><td>f64</td><td>f64</td><td>f64</td><td>f64</td><td>f64</td><td>f64</td><td>f64</td><td>f64</td><td>f64</td></tr></thead><tbody><tr><td>2</td><td>2023-03-31 23:24:25</td><td>2023-03-31 23:40:54</td><td>null</td><td>3.16</td><td>null</td><td>null</td><td>163</td><td>75</td><td>0</td><td>12.13</td><td>0.0</td><td>0.5</td><td>4.23</td><td>0.0</td><td>1.0</td><td>20.36</td><td>null</td><td>null</td><td>null</td><td>null</td></tr><tr><td>2</td><td>2023-03-31 23:24:50</td><td>2023-04-01 00:04:12</td><td>null</td><td>6.89</td><td>null</td><td>null</td><td>125</td><td>198</td><td>0</td><td>40.92</td><td>0.0</td><td>0.5</td><td>8.98</td><td>0.0</td><td>1.0</td><td>53.9</td><td>null</td><td>null</td><td>null</td><td>null</td></tr><tr><td>2</td><td>2023-03-31 23:26:31</td><td>2023-03-31 23:49:39</td><td>null</td><td>4.01</td><td>null</td><td>null</td><td>50</td><td>224</td><td>0</td><td>24.02</td><td>0.0</td><td>0.5</td><td>0.0</td><td>0.0</td><td>1.0</td><td>28.02</td><td>null</td><td>null</td><td>null</td><td>null</td></tr><tr><td>2</td><td>2023-03-31 23:07:51</td><td>2023-03-31 23:15:56</td><td>null</td><td>1.31</td><td>null</td><td>null</td><td>113</td><td>158</td><td>0</td><td>8.51</td><td>0.0</td><td>0.5</td><td>3.5</td><td>0.0</td><td>1.0</td><td>16.01</td><td>null</td><td>null</td><td>null</td><td>null</td></tr><tr><td>2</td><td>2023-03-31 23:26:12</td><td>2023-03-31 23:31:47</td><td>null</td><td>0.88</td><td>null</td><td>null</td><td>41</td><td>166</td><td>0</td><td>13.51</td><td>0.0</td><td>0.5</td><td>2.25</td><td>0.0</td><td>1.0</td><td>17.26</td><td>null</td><td>null</td><td>null</td><td>null</td></tr></tbody></table></div>"
      ],
      "text/plain": [
       "shape: (5, 21)\n",
       "┌──────────┬───────────┬───────────┬───────────┬───┬───────────┬───────────┬───────────┬───────────┐\n",
       "│ VendorID ┆ tpep_pick ┆ tpep_drop ┆ passenger ┆ … ┆ congestio ┆ Airport_f ┆ airport_f ┆ cbd_conge │\n",
       "│ ---      ┆ up_dateti ┆ off_datet ┆ _count    ┆   ┆ n_surchar ┆ ee        ┆ ee        ┆ stion_fee │\n",
       "│ i64      ┆ me        ┆ ime       ┆ ---       ┆   ┆ ge        ┆ ---       ┆ ---       ┆ ---       │\n",
       "│          ┆ ---       ┆ ---       ┆ f64       ┆   ┆ ---       ┆ f64       ┆ f64       ┆ f64       │\n",
       "│          ┆ datetime[ ┆ datetime[ ┆           ┆   ┆ f64       ┆           ┆           ┆           │\n",
       "│          ┆ μs]       ┆ μs]       ┆           ┆   ┆           ┆           ┆           ┆           │\n",
       "╞══════════╪═══════════╪═══════════╪═══════════╪═══╪═══════════╪═══════════╪═══════════╪═══════════╡\n",
       "│ 2        ┆ 2023-03-3 ┆ 2023-03-3 ┆ null      ┆ … ┆ null      ┆ null      ┆ null      ┆ null      │\n",
       "│          ┆ 1         ┆ 1         ┆           ┆   ┆           ┆           ┆           ┆           │\n",
       "│          ┆ 23:24:25  ┆ 23:40:54  ┆           ┆   ┆           ┆           ┆           ┆           │\n",
       "│ 2        ┆ 2023-03-3 ┆ 2023-04-0 ┆ null      ┆ … ┆ null      ┆ null      ┆ null      ┆ null      │\n",
       "│          ┆ 1         ┆ 1         ┆           ┆   ┆           ┆           ┆           ┆           │\n",
       "│          ┆ 23:24:50  ┆ 00:04:12  ┆           ┆   ┆           ┆           ┆           ┆           │\n",
       "│ 2        ┆ 2023-03-3 ┆ 2023-03-3 ┆ null      ┆ … ┆ null      ┆ null      ┆ null      ┆ null      │\n",
       "│          ┆ 1         ┆ 1         ┆           ┆   ┆           ┆           ┆           ┆           │\n",
       "│          ┆ 23:26:31  ┆ 23:49:39  ┆           ┆   ┆           ┆           ┆           ┆           │\n",
       "│ 2        ┆ 2023-03-3 ┆ 2023-03-3 ┆ null      ┆ … ┆ null      ┆ null      ┆ null      ┆ null      │\n",
       "│          ┆ 1         ┆ 1         ┆           ┆   ┆           ┆           ┆           ┆           │\n",
       "│          ┆ 23:07:51  ┆ 23:15:56  ┆           ┆   ┆           ┆           ┆           ┆           │\n",
       "│ 2        ┆ 2023-03-3 ┆ 2023-03-3 ┆ null      ┆ … ┆ null      ┆ null      ┆ null      ┆ null      │\n",
       "│          ┆ 1         ┆ 1         ┆           ┆   ┆           ┆           ┆           ┆           │\n",
       "│          ┆ 23:26:12  ┆ 23:31:47  ┆           ┆   ┆           ┆           ┆           ┆           │\n",
       "└──────────┴───────────┴───────────┴───────────┴───┴───────────┴───────────┴───────────┴───────────┘"
      ]
     },
     "execution_count": 3,
     "metadata": {},
     "output_type": "execute_result"
    }
   ],
   "source": [
    "df.tail(5)"
   ]
  },
  {
   "cell_type": "code",
   "execution_count": 4,
   "id": "1b864116",
   "metadata": {},
   "outputs": [
    {
     "data": {
      "text/html": [
       "<div><style>\n",
       ".dataframe > thead > tr,\n",
       ".dataframe > tbody > tr {\n",
       "  text-align: right;\n",
       "  white-space: pre-wrap;\n",
       "}\n",
       "</style>\n",
       "<small>shape: (11, 22)</small><table border=\"1\" class=\"dataframe\"><thead><tr><th>statistic</th><th>VendorID</th><th>tpep_pickup_datetime</th><th>tpep_dropoff_datetime</th><th>passenger_count</th><th>trip_distance</th><th>RatecodeID</th><th>store_and_fwd_flag</th><th>PULocationID</th><th>DOLocationID</th><th>payment_type</th><th>fare_amount</th><th>extra</th><th>mta_tax</th><th>tip_amount</th><th>tolls_amount</th><th>improvement_surcharge</th><th>total_amount</th><th>congestion_surcharge</th><th>Airport_fee</th><th>airport_fee</th><th>cbd_congestion_fee</th></tr><tr><td>str</td><td>f64</td><td>str</td><td>str</td><td>f64</td><td>f64</td><td>f64</td><td>str</td><td>f64</td><td>f64</td><td>f64</td><td>f64</td><td>f64</td><td>f64</td><td>f64</td><td>f64</td><td>f64</td><td>f64</td><td>f64</td><td>f64</td><td>f64</td><td>f64</td></tr></thead><tbody><tr><td>&quot;count&quot;</td><td>1.38896468e8</td><td>&quot;138896468&quot;</td><td>&quot;138896468&quot;</td><td>1.27921922e8</td><td>1.38896468e8</td><td>1.27921922e8</td><td>&quot;127921922&quot;</td><td>1.38896468e8</td><td>1.38896468e8</td><td>1.38896468e8</td><td>1.38896468e8</td><td>1.38896468e8</td><td>1.38896468e8</td><td>1.38896468e8</td><td>1.38896468e8</td><td>1.38896468e8</td><td>1.38896468e8</td><td>1.27921922e8</td><td>8.6639104e7</td><td>4.1282818e7</td><td>1.9760424e7</td></tr><tr><td>&quot;null_count&quot;</td><td>0.0</td><td>&quot;0&quot;</td><td>&quot;0&quot;</td><td>1.0974546e7</td><td>0.0</td><td>1.0974546e7</td><td>&quot;10974546&quot;</td><td>0.0</td><td>0.0</td><td>0.0</td><td>0.0</td><td>0.0</td><td>0.0</td><td>0.0</td><td>0.0</td><td>0.0</td><td>0.0</td><td>1.0974546e7</td><td>5.2257364e7</td><td>9.761365e7</td><td>1.19136044e8</td></tr><tr><td>&quot;mean&quot;</td><td>1.754169</td><td>&quot;2023-10-06 03:09:41.255780&quot;</td><td>&quot;2023-10-06 03:37:04.034708&quot;</td><td>1.359772</td><td>5.255372</td><td>1.87244</td><td>null</td><td>164.458796</td><td>163.152636</td><td>1.132167</td><td>16.565063</td><td>1.304069</td><td>0.483731</td><td>4.426969</td><td>0.54893</td><td>0.781858</td><td>26.005767</td><td>2.254399</td><td>0.143168</td><td>0.098144</td><td>0.524461</td></tr><tr><td>&quot;std&quot;</td><td>0.471936</td><td>null</td><td>null</td><td>0.876464</td><td>473.916795</td><td>8.764473</td><td>null</td><td>64.735367</td><td>69.917767</td><td>0.608798</td><td>11931.048396</td><td>1.903596</td><td>0.116377</td><td>11930.560976</td><td>2.149349</td><td>0.364023</td><td>108.112336</td><td>0.823469</td><td>0.492262</td><td>0.339819</td><td>0.359651</td></tr><tr><td>&quot;min&quot;</td><td>1.0</td><td>&quot;2001-01-01 00:03:14&quot;</td><td>&quot;1970-01-20 10:16:32&quot;</td><td>0.0</td><td>0.0</td><td>1.0</td><td>&quot;N&quot;</td><td>1.0</td><td>1.0</td><td>0.0</td><td>-1.3339e8</td><td>-39.17</td><td>-0.55</td><td>-411.0</td><td>-148.17</td><td>-1.0</td><td>-2567.8</td><td>-2.5</td><td>-1.75</td><td>-1.25</td><td>-0.75</td></tr><tr><td>&hellip;</td><td>&hellip;</td><td>&hellip;</td><td>&hellip;</td><td>&hellip;</td><td>&hellip;</td><td>&hellip;</td><td>&hellip;</td><td>&hellip;</td><td>&hellip;</td><td>&hellip;</td><td>&hellip;</td><td>&hellip;</td><td>&hellip;</td><td>&hellip;</td><td>&hellip;</td><td>&hellip;</td><td>&hellip;</td><td>&hellip;</td><td>&hellip;</td><td>&hellip;</td><td>&hellip;</td></tr><tr><td>&quot;25%&quot;</td><td>1.0</td><td>&quot;2022-11-15 14:12:59&quot;</td><td>&quot;2022-11-15 14:33:10&quot;</td><td>1.0</td><td>1.05</td><td>1.0</td><td>null</td><td>132.0</td><td>113.0</td><td>1.0</td><td>8.5</td><td>0.0</td><td>0.5</td><td>0.0</td><td>0.0</td><td>0.3</td><td>14.51</td><td>2.5</td><td>0.0</td><td>0.0</td><td>0.0</td></tr><tr><td>&quot;50%&quot;</td><td>2.0</td><td>&quot;2023-10-16 15:07:57&quot;</td><td>&quot;2023-10-16 15:28:34&quot;</td><td>1.0</td><td>1.8</td><td>1.0</td><td>null</td><td>161.0</td><td>162.0</td><td>1.0</td><td>12.8</td><td>1.0</td><td>0.5</td><td>2.46</td><td>0.0</td><td>1.0</td><td>19.56</td><td>2.5</td><td>0.0</td><td>0.0</td><td>0.75</td></tr><tr><td>&quot;75%&quot;</td><td>2.0</td><td>&quot;2024-08-30 00:28:00&quot;</td><td>&quot;2024-08-30 00:42:03&quot;</td><td>1.0</td><td>3.43</td><td>1.0</td><td>null</td><td>234.0</td><td>234.0</td><td>1.0</td><td>20.5</td><td>2.5</td><td>0.5</td><td>4.0</td><td>0.0</td><td>1.0</td><td>28.56</td><td>2.5</td><td>0.0</td><td>0.0</td><td>0.75</td></tr><tr><td>&quot;99%&quot;</td><td>2.0</td><td>&quot;2025-05-21 21:09:30&quot;</td><td>&quot;2025-05-21 21:24:30&quot;</td><td>5.0</td><td>20.08</td><td>5.0</td><td>null</td><td>263.0</td><td>264.0</td><td>4.0</td><td>72.3</td><td>7.5</td><td>0.5</td><td>17.18</td><td>6.94</td><td>1.0</td><td>102.2</td><td>2.5</td><td>1.75</td><td>1.25</td><td>0.75</td></tr><tr><td>&quot;max&quot;</td><td>7.0</td><td>&quot;2026-06-26 23:53:12&quot;</td><td>&quot;2026-06-27 20:59:10&quot;</td><td>9.0</td><td>398608.62</td><td>99.0</td><td>&quot;Y&quot;</td><td>265.0</td><td>265.0</td><td>5.0</td><td>863372.12</td><td>10002.5</td><td>53.16</td><td>1.3339e8</td><td>1702.88</td><td>2.0</td><td>863380.37</td><td>2.75</td><td>6.75</td><td>1.25</td><td>1.5</td></tr></tbody></table></div>"
      ],
      "text/plain": [
       "shape: (11, 22)\n",
       "┌───────────┬───────────┬───────────┬───────────┬───┬───────────┬───────────┬───────────┬──────────┐\n",
       "│ statistic ┆ VendorID  ┆ tpep_pick ┆ tpep_drop ┆ … ┆ congestio ┆ Airport_f ┆ airport_f ┆ cbd_cong │\n",
       "│ ---       ┆ ---       ┆ up_dateti ┆ off_datet ┆   ┆ n_surchar ┆ ee        ┆ ee        ┆ estion_f │\n",
       "│ str       ┆ f64       ┆ me        ┆ ime       ┆   ┆ ge        ┆ ---       ┆ ---       ┆ ee       │\n",
       "│           ┆           ┆ ---       ┆ ---       ┆   ┆ ---       ┆ f64       ┆ f64       ┆ ---      │\n",
       "│           ┆           ┆ str       ┆ str       ┆   ┆ f64       ┆           ┆           ┆ f64      │\n",
       "╞═══════════╪═══════════╪═══════════╪═══════════╪═══╪═══════════╪═══════════╪═══════════╪══════════╡\n",
       "│ count     ┆ 1.3889646 ┆ 138896468 ┆ 138896468 ┆ … ┆ 1.2792192 ┆ 8.6639104 ┆ 4.1282818 ┆ 1.976042 │\n",
       "│           ┆ 8e8       ┆           ┆           ┆   ┆ 2e8       ┆ e7        ┆ e7        ┆ 4e7      │\n",
       "│ null_coun ┆ 0.0       ┆ 0         ┆ 0         ┆ … ┆ 1.0974546 ┆ 5.2257364 ┆ 9.761365e ┆ 1.191360 │\n",
       "│ t         ┆           ┆           ┆           ┆   ┆ e7        ┆ e7        ┆ 7         ┆ 44e8     │\n",
       "│ mean      ┆ 1.754169  ┆ 2023-10-0 ┆ 2023-10-0 ┆ … ┆ 2.254399  ┆ 0.143168  ┆ 0.098144  ┆ 0.524461 │\n",
       "│           ┆           ┆ 6 03:09:4 ┆ 6 03:37:0 ┆   ┆           ┆           ┆           ┆          │\n",
       "│           ┆           ┆ 1.255780  ┆ 4.034708  ┆   ┆           ┆           ┆           ┆          │\n",
       "│ std       ┆ 0.471936  ┆ null      ┆ null      ┆ … ┆ 0.823469  ┆ 0.492262  ┆ 0.339819  ┆ 0.359651 │\n",
       "│ min       ┆ 1.0       ┆ 2001-01-0 ┆ 1970-01-2 ┆ … ┆ -2.5      ┆ -1.75     ┆ -1.25     ┆ -0.75    │\n",
       "│           ┆           ┆ 1         ┆ 0         ┆   ┆           ┆           ┆           ┆          │\n",
       "│           ┆           ┆ 00:03:14  ┆ 10:16:32  ┆   ┆           ┆           ┆           ┆          │\n",
       "│ …         ┆ …         ┆ …         ┆ …         ┆ … ┆ …         ┆ …         ┆ …         ┆ …        │\n",
       "│ 25%       ┆ 1.0       ┆ 2022-11-1 ┆ 2022-11-1 ┆ … ┆ 2.5       ┆ 0.0       ┆ 0.0       ┆ 0.0      │\n",
       "│           ┆           ┆ 5         ┆ 5         ┆   ┆           ┆           ┆           ┆          │\n",
       "│           ┆           ┆ 14:12:59  ┆ 14:33:10  ┆   ┆           ┆           ┆           ┆          │\n",
       "│ 50%       ┆ 2.0       ┆ 2023-10-1 ┆ 2023-10-1 ┆ … ┆ 2.5       ┆ 0.0       ┆ 0.0       ┆ 0.75     │\n",
       "│           ┆           ┆ 6         ┆ 6         ┆   ┆           ┆           ┆           ┆          │\n",
       "│           ┆           ┆ 15:07:57  ┆ 15:28:34  ┆   ┆           ┆           ┆           ┆          │\n",
       "│ 75%       ┆ 2.0       ┆ 2024-08-3 ┆ 2024-08-3 ┆ … ┆ 2.5       ┆ 0.0       ┆ 0.0       ┆ 0.75     │\n",
       "│           ┆           ┆ 0         ┆ 0         ┆   ┆           ┆           ┆           ┆          │\n",
       "│           ┆           ┆ 00:28:00  ┆ 00:42:03  ┆   ┆           ┆           ┆           ┆          │\n",
       "│ 99%       ┆ 2.0       ┆ 2025-05-2 ┆ 2025-05-2 ┆ … ┆ 2.5       ┆ 1.75      ┆ 1.25      ┆ 0.75     │\n",
       "│           ┆           ┆ 1         ┆ 1         ┆   ┆           ┆           ┆           ┆          │\n",
       "│           ┆           ┆ 21:09:30  ┆ 21:24:30  ┆   ┆           ┆           ┆           ┆          │\n",
       "│ max       ┆ 7.0       ┆ 2026-06-2 ┆ 2026-06-2 ┆ … ┆ 2.75      ┆ 6.75      ┆ 1.25      ┆ 1.5      │\n",
       "│           ┆           ┆ 6         ┆ 7         ┆   ┆           ┆           ┆           ┆          │\n",
       "│           ┆           ┆ 23:53:12  ┆ 20:59:10  ┆   ┆           ┆           ┆           ┆          │\n",
       "└───────────┴───────────┴───────────┴───────────┴───┴───────────┴───────────┴───────────┴──────────┘"
      ]
     },
     "execution_count": 4,
     "metadata": {},
     "output_type": "execute_result"
    }
   ],
   "source": [
    "df.describe(\n",
    "    percentiles=[0.01, 0.25, 0.5, 0.75, 0.99],\n",
    ")"
   ]
  },
  {
   "cell_type": "markdown",
   "id": "f45ec1c8",
   "metadata": {},
   "source": [
    "\n",
    "# Data Overview\n",
    "The data is for the Yellow Taxis in New York (most common taxis, can pickup passengers anywhere in new york via street hails in contrast to green taxis). For now the green taxis are excluded, but may be included in future iterations. \n",
    "\n",
    "## Data Fields\n",
    "|Field Name|Description|\n",
    "|:---|:---|\n",
    "|`VendorID`| A code indicating the TPEP provider that provided the record.<br>1 = Creative Movile Technologies, LLC<br>2 = Curb Mobility, LLC<br>6 = Myle Technologies Inc<br>7 = Helix|\n",
    "|`tpep_pickup_datetime`|The date and time when the meter was engaged.|\n",
    "|`tpep_dropoff_dateteime`|The date and time when the meter was disengaged.|\n",
    "|`passenger_count`|The number of passengers in the vehicle|\n",
    "|`trip_distance`|The elapsed trip distance in miles reported by the taximeter.|\n",
    "|`RatecodeID`|The final rate code in effect at the end of the trip.<br>1 = Standard rate<br>2 = JFK<br>3 = Newark<br>4 = Nassau or Westchester<br>5 = Negotiated fare<br>6 = Group ride<br>99 = Null/unknown|\n",
    "|`store_and_fwd_flag`|This flag indicates whether the trip record was held in vehicle memory before sending to the vendor,<br> aka “store and forward,” because the vehicle did not have a connection to the server.<br>Y = store and forward trip<br>N = not a store and forward trip|\n",
    "|`PULocationID`|PULocationID TLC Taxi Zone in which the taximeter was engaged.|\n",
    "|`DOLocationID`|PULocationID TLC Taxi Zone in which the taximeter was disengaged.|\n",
    "|`payment_type`|A numeric code signifying how the passenger paid for the trip.<br>0 = Flex Fare trip<br>1 = Credit card<br>2 = Cash<br>3 = No charge<br>4 = Dispute<br>5 = Unknown<br>6 = Voided trip|\n",
    "|`fare_amount`|The time-and-distance fare calculated by the meter.<br>For additional information on the following columns, see [https://www.nyc.gov/site/tlc/passengers/taxi-fare.page](https://www.nyc.gov/site/tlc/passengers/taxi-fare.page)|\n",
    "|`extra`|Miscellaneous extras and surcharges.|\n",
    "|`mta_tax`|Tax that is automatically trigerred based on the metered rate in use.|\n",
    "|`tip_amount`|Tip amount = This field is automatically populated for credit card tips. Cash tips are not included|\n",
    "|`tolls_amount`|Total amount of all tolls paid in trip.|\n",
    "|`improvement_surcharge`|Improvement surcharge assessed trips at the flag drop.<br>The improvement\n",
    "surcharge began being levied in 2015.|\n",
    "|`total_amount`|The total amount charged to passengers. Does not include cash tips.|\n",
    "|`congestion_surcharge`|Total amount collected in trip for NYS congestion surcharge.|\n",
    "|`airport_fee`|For pick up only at LaGuardia and John F. Kennedy Airports.|\n",
    "|`cbd_congestion_fee`|Per-trip charge for MTA's Congestion Relief Zone starting Jan. 5, 2025|\n",
    "\n",
    "> Source: [https://www.nyc.gov/assets/tlc/downloads/pdf/data_dictionary_trip_records_yellow.pdf](https://www.nyc.gov/assets/tlc/downloads/pdf/data_dictionary_trip_records_yellow.pdf)"
   ]
  },
  {
   "cell_type": "markdown",
   "id": "f7de37e5",
   "metadata": {},
   "source": []
  }
 ],
 "metadata": {
  "kernelspec": {
   "display_name": ".venv",
   "language": "python",
   "name": "python3"
  },
  "language_info": {
   "codemirror_mode": {
    "name": "ipython",
    "version": 3
   },
   "file_extension": ".py",
   "mimetype": "text/x-python",
   "name": "python",
   "nbconvert_exporter": "python",
   "pygments_lexer": "ipython3",
   "version": "3.11.12"
  }
 },
 "nbformat": 4,
 "nbformat_minor": 5
}
