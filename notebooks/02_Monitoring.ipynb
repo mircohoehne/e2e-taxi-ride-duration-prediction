{
 "cells": [
  {
   "cell_type": "code",
   "execution_count": 1,
   "id": "db63129d-bf2a-4156-8a2d-5011efa275bf",
   "metadata": {},
   "outputs": [],
   "source": [
    "from pathlib import Path\n",
    "\n",
    "from e2e_taxi_ride_duration_prediction.ingestion import get_nyc_taxi_data\n",
    "from e2e_taxi_ride_duration_prediction.monitoring import generate_monitoring_report"
   ]
  },
  {
   "cell_type": "code",
   "execution_count": 2,
   "id": "2b1d0f5d-d240-49aa-91aa-9db1ef55cc0f",
   "metadata": {},
   "outputs": [
    {
     "data": {
      "text/html": [
       "<pre style=\"white-space:pre;overflow-x:auto;line-height:normal;font-family:Menlo,'DejaVu Sans Mono',consolas,'Courier New',monospace\">18:20:06.086 | <span style=\"color: #008080; text-decoration-color: #008080\">INFO</span>    | prefect - Starting temporary server on <span style=\"color: #0000ff; text-decoration-color: #0000ff\">http://127.0.0.1:8429</span>\n",
       "See <span style=\"color: #0000ff; text-decoration-color: #0000ff\">https://docs.prefect.io/v3/concepts/server#how-to-guides</span> for more information on running a dedicated Prefect server.\n",
       "</pre>\n"
      ],
      "text/plain": [
       "18:20:06.086 | \u001b[36mINFO\u001b[0m    | prefect - Starting temporary server on \u001b[94mhttp://127.0.0.1:8429\u001b[0m\n",
       "See \u001b[94mhttps://docs.prefect.io/v3/concepts/server#how-to-guides\u001b[0m for more information on running a dedicated Prefect server.\n"
      ]
     },
     "metadata": {},
     "output_type": "display_data"
    },
    {
     "data": {
      "text/html": [
       "<pre style=\"white-space:pre;overflow-x:auto;line-height:normal;font-family:Menlo,'DejaVu Sans Mono',consolas,'Courier New',monospace\">18:20:08.508 | <span style=\"color: #008080; text-decoration-color: #008080\">INFO</span>    | Flow run<span style=\"color: #800080; text-decoration-color: #800080\"> 'active-limpet'</span> - Beginning flow run<span style=\"color: #800080; text-decoration-color: #800080\"> 'active-limpet'</span> for flow<span style=\"color: #800080; text-decoration-color: #800080; font-weight: bold\"> 'get-nyc-taxi-data'</span>\n",
       "</pre>\n"
      ],
      "text/plain": [
       "18:20:08.508 | \u001b[36mINFO\u001b[0m    | Flow run\u001b[35m 'active-limpet'\u001b[0m - Beginning flow run\u001b[35m 'active-limpet'\u001b[0m for flow\u001b[1;35m 'get-nyc-taxi-data'\u001b[0m\n"
      ]
     },
     "metadata": {},
     "output_type": "display_data"
    },
    {
     "data": {
      "text/html": [
       "<pre style=\"white-space:pre;overflow-x:auto;line-height:normal;font-family:Menlo,'DejaVu Sans Mono',consolas,'Courier New',monospace\">18:20:08.554 | <span style=\"color: #008080; text-decoration-color: #008080\">INFO</span>    | Task run 'get_data_path-ef6' - Finished in state <span style=\"color: #008000; text-decoration-color: #008000\">Completed</span>()\n",
       "</pre>\n"
      ],
      "text/plain": [
       "18:20:08.554 | \u001b[36mINFO\u001b[0m    | Task run 'get_data_path-ef6' - Finished in state \u001b[32mCompleted\u001b[0m()\n"
      ]
     },
     "metadata": {},
     "output_type": "display_data"
    },
    {
     "name": "stderr",
     "output_type": "stream",
     "text": [
      "\u001b[32m2025-08-03 18:20:08.555\u001b[0m | \u001b[1mINFO    \u001b[0m | \u001b[36me2e_taxi_ride_duration_prediction.ingestion\u001b[0m:\u001b[36mget_nyc_taxi_data\u001b[0m:\u001b[36m127\u001b[0m - \u001b[1mFound existing parquet file for NYC Taxi data from 2025-4 to 2025-4. Loading it.\u001b[0m\n"
     ]
    },
    {
     "data": {
      "text/html": [
       "<pre style=\"white-space:pre;overflow-x:auto;line-height:normal;font-family:Menlo,'DejaVu Sans Mono',consolas,'Courier New',monospace\">18:20:08.566 | <span style=\"color: #008080; text-decoration-color: #008080\">INFO</span>    | Flow run<span style=\"color: #800080; text-decoration-color: #800080\"> 'active-limpet'</span> - Finished in state <span style=\"color: #008000; text-decoration-color: #008000\">Completed</span>()\n",
       "</pre>\n"
      ],
      "text/plain": [
       "18:20:08.566 | \u001b[36mINFO\u001b[0m    | Flow run\u001b[35m 'active-limpet'\u001b[0m - Finished in state \u001b[32mCompleted\u001b[0m()\n"
      ]
     },
     "metadata": {},
     "output_type": "display_data"
    },
    {
     "data": {
      "text/html": [
       "<pre style=\"white-space:pre;overflow-x:auto;line-height:normal;font-family:Menlo,'DejaVu Sans Mono',consolas,'Courier New',monospace\">18:20:08.616 | <span style=\"color: #008080; text-decoration-color: #008080\">INFO</span>    | Flow run<span style=\"color: #800080; text-decoration-color: #800080\"> 'defiant-boa'</span> - Beginning flow run<span style=\"color: #800080; text-decoration-color: #800080\"> 'defiant-boa'</span> for flow<span style=\"color: #800080; text-decoration-color: #800080; font-weight: bold\"> 'get-nyc-taxi-data'</span>\n",
       "</pre>\n"
      ],
      "text/plain": [
       "18:20:08.616 | \u001b[36mINFO\u001b[0m    | Flow run\u001b[35m 'defiant-boa'\u001b[0m - Beginning flow run\u001b[35m 'defiant-boa'\u001b[0m for flow\u001b[1;35m 'get-nyc-taxi-data'\u001b[0m\n"
      ]
     },
     "metadata": {},
     "output_type": "display_data"
    },
    {
     "data": {
      "text/html": [
       "<pre style=\"white-space:pre;overflow-x:auto;line-height:normal;font-family:Menlo,'DejaVu Sans Mono',consolas,'Courier New',monospace\">18:20:08.642 | <span style=\"color: #008080; text-decoration-color: #008080\">INFO</span>    | Task run 'get_data_path-af2' - Finished in state <span style=\"color: #008000; text-decoration-color: #008000\">Completed</span>()\n",
       "</pre>\n"
      ],
      "text/plain": [
       "18:20:08.642 | \u001b[36mINFO\u001b[0m    | Task run 'get_data_path-af2' - Finished in state \u001b[32mCompleted\u001b[0m()\n"
      ]
     },
     "metadata": {},
     "output_type": "display_data"
    },
    {
     "name": "stderr",
     "output_type": "stream",
     "text": [
      "\u001b[32m2025-08-03 18:20:08.643\u001b[0m | \u001b[1mINFO    \u001b[0m | \u001b[36me2e_taxi_ride_duration_prediction.ingestion\u001b[0m:\u001b[36mget_nyc_taxi_data\u001b[0m:\u001b[36m127\u001b[0m - \u001b[1mFound existing parquet file for NYC Taxi data from 2025-4 to 2025-4. Loading it.\u001b[0m\n"
     ]
    },
    {
     "data": {
      "text/html": [
       "<pre style=\"white-space:pre;overflow-x:auto;line-height:normal;font-family:Menlo,'DejaVu Sans Mono',consolas,'Courier New',monospace\">18:20:08.660 | <span style=\"color: #008080; text-decoration-color: #008080\">INFO</span>    | Flow run<span style=\"color: #800080; text-decoration-color: #800080\"> 'defiant-boa'</span> - Finished in state <span style=\"color: #008000; text-decoration-color: #008000\">Completed</span>()\n",
       "</pre>\n"
      ],
      "text/plain": [
       "18:20:08.660 | \u001b[36mINFO\u001b[0m    | Flow run\u001b[35m 'defiant-boa'\u001b[0m - Finished in state \u001b[32mCompleted\u001b[0m()\n"
      ]
     },
     "metadata": {},
     "output_type": "display_data"
    }
   ],
   "source": [
    "current_data = get_nyc_taxi_data(start=(2025, 4), end=(2025, 4))\n",
    "reference_data = get_nyc_taxi_data(start=(2025, 4), end=(2025, 4))"
   ]
  },
  {
   "cell_type": "code",
   "execution_count": 3,
   "id": "54d4e8c9-b8aa-4d65-bf0e-51ff97ffc8ee",
   "metadata": {},
   "outputs": [
    {
     "data": {
      "text/html": [
       "<pre style=\"white-space:pre;overflow-x:auto;line-height:normal;font-family:Menlo,'DejaVu Sans Mono',consolas,'Courier New',monospace\">18:20:08.784 | <span style=\"color: #008080; text-decoration-color: #008080\">INFO</span>    | Task run 'calculate_duration' - Finished in state <span style=\"color: #008000; text-decoration-color: #008000\">Completed</span>()\n",
       "</pre>\n"
      ],
      "text/plain": [
       "18:20:08.784 | \u001b[36mINFO\u001b[0m    | Task run 'calculate_duration' - Finished in state \u001b[32mCompleted\u001b[0m()\n"
      ]
     },
     "metadata": {},
     "output_type": "display_data"
    },
    {
     "data": {
      "text/html": [
       "<pre style=\"white-space:pre;overflow-x:auto;line-height:normal;font-family:Menlo,'DejaVu Sans Mono',consolas,'Courier New',monospace\">18:20:23.547 | <span style=\"color: #008080; text-decoration-color: #008080\">INFO</span>    | Task run 'calculate_duration' - Finished in state <span style=\"color: #008000; text-decoration-color: #008000\">Completed</span>()\n",
       "</pre>\n"
      ],
      "text/plain": [
       "18:20:23.547 | \u001b[36mINFO\u001b[0m    | Task run 'calculate_duration' - Finished in state \u001b[32mCompleted\u001b[0m()\n"
      ]
     },
     "metadata": {},
     "output_type": "display_data"
    },
    {
     "name": "stderr",
     "output_type": "stream",
     "text": [
      "/var/home/smircs/Programming/e2e-taxi-ride-duration-prediction/.venv/lib/python3.11/site-packages/pandas/core/arrays/base.py:725: RuntimeWarning:\n",
      "\n",
      "invalid value encountered in cast\n",
      "\n",
      "/var/home/smircs/Programming/e2e-taxi-ride-duration-prediction/.venv/lib/python3.11/site-packages/pandas/core/arrays/base.py:725: RuntimeWarning:\n",
      "\n",
      "invalid value encountered in cast\n",
      "\n",
      "/var/home/smircs/Programming/e2e-taxi-ride-duration-prediction/.venv/lib/python3.11/site-packages/sklearn/metrics/_regression.py:1283: UndefinedMetricWarning:\n",
      "\n",
      "R^2 score is not well-defined with less than two samples.\n",
      "\n",
      "/var/home/smircs/Programming/e2e-taxi-ride-duration-prediction/.venv/lib/python3.11/site-packages/sklearn/metrics/_regression.py:1283: UndefinedMetricWarning:\n",
      "\n",
      "R^2 score is not well-defined with less than two samples.\n",
      "\n"
     ]
    },
    {
     "data": {
      "text/html": [
       "<pre style=\"white-space:pre;overflow-x:auto;line-height:normal;font-family:Menlo,'DejaVu Sans Mono',consolas,'Courier New',monospace\">18:25:29.367 | <span style=\"color: #008080; text-decoration-color: #008080\">INFO</span>    | Task run 'generate_monitoring_report' - Finished in state <span style=\"color: #008000; text-decoration-color: #008000\">Completed</span>()\n",
       "</pre>\n"
      ],
      "text/plain": [
       "18:25:29.367 | \u001b[36mINFO\u001b[0m    | Task run 'generate_monitoring_report' - Finished in state \u001b[32mCompleted\u001b[0m()\n"
      ]
     },
     "metadata": {},
     "output_type": "display_data"
    },
    {
     "data": {
      "text/plain": [
       "<evidently.core.report.Report at 0x7f13e416f350>"
      ]
     },
     "execution_count": 3,
     "metadata": {},
     "output_type": "execute_result"
    }
   ],
   "source": [
    "root_path = Path().resolve().parent\n",
    "data_path = root_path / \"data\" / \"raw\"\n",
    "reference_data_path = data_path / \"yellow_tripdata_2025-01_2025-03.parquet\"\n",
    "current_data_path = data_path / \"yellow_tripdata_2025-04_2025-04.parquet\"\n",
    "model_path = root_path / \"models\" / \"baseline_taxi_duration_model_and_vectorizer.joblib\"\n",
    "\n",
    "generate_monitoring_report(\n",
    "    reference_data_path,\n",
    "    current_data_path,\n",
    "    str(root_path / \"reports\" / \"example_report.html\"),\n",
    "    model_path,\n",
    ")"
   ]
  },
  {
   "cell_type": "code",
   "execution_count": null,
   "id": "9e065328-439e-49a3-bf0d-7379f154b05e",
   "metadata": {},
   "outputs": [],
   "source": []
  }
 ],
 "metadata": {
  "kernelspec": {
   "display_name": "Python 3 (ipykernel)",
   "language": "python",
   "name": "python3"
  },
  "language_info": {
   "codemirror_mode": {
    "name": "ipython",
    "version": 3
   },
   "file_extension": ".py",
   "mimetype": "text/x-python",
   "name": "python",
   "nbconvert_exporter": "python",
   "pygments_lexer": "ipython3",
   "version": "3.11.13"
  }
 },
 "nbformat": 4,
 "nbformat_minor": 5
}
