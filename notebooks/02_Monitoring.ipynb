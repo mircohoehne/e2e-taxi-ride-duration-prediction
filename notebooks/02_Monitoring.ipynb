{
 "cells": [
  {
   "cell_type": "code",
   "execution_count": null,
   "id": "db63129d-bf2a-4156-8a2d-5011efa275bf",
   "metadata": {},
   "outputs": [],
   "source": [
    "from pathlib import Path\n",
    "\n",
    "from e2e_taxi_ride_duration_prediction.ingestion import get_nyc_taxi_data\n",
    "from e2e_taxi_ride_duration_prediction.monitoring import generate_monitoring_report"
   ]
  },
  {
   "cell_type": "code",
   "execution_count": null,
   "id": "2b1d0f5d-d240-49aa-91aa-9db1ef55cc0f",
   "metadata": {},
   "outputs": [],
   "source": [
    "current_data = get_nyc_taxi_data(start=(2025, 4), end=(2025, 4))\n",
    "reference_data = get_nyc_taxi_data(start=(2025, 4), end=(2025, 4))"
   ]
  },
  {
   "cell_type": "code",
   "execution_count": null,
   "id": "54d4e8c9-b8aa-4d65-bf0e-51ff97ffc8ee",
   "metadata": {},
   "outputs": [],
   "source": [
    "root_path = Path().resolve().parent\n",
    "data_path = root_path / \"data\" / \"raw\"\n",
    "reference_data_path = data_path / \"yellow_tripdata_2025-01_2025-03.parquet\"\n",
    "current_data_path = data_path / \"yellow_tripdata_2025-04_2025-04.parquet\"\n",
    "generate_monitoring_report(\n",
    "    reference_data_path,\n",
    "    current_data_path,\n",
    "    str(root_path / \"reports\" / \"example_report.html\"),\n",
    "    regression=False,\n",
    ")"
   ]
  }
 ],
 "metadata": {
  "kernelspec": {
   "display_name": "Python 3 (ipykernel)",
   "language": "python",
   "name": "python3"
  },
  "language_info": {
   "codemirror_mode": {
    "name": "ipython",
    "version": 3
   },
   "file_extension": ".py",
   "mimetype": "text/x-python",
   "name": "python",
   "nbconvert_exporter": "python",
   "pygments_lexer": "ipython3",
   "version": "3.11.13"
  }
 },
 "nbformat": 4,
 "nbformat_minor": 5
}
